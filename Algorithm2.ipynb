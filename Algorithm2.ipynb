import numpy as np

# Sample expected returns and covariance matrix (for 4 assets)
expected_returns = np.array([0.12, 0.18, 0.15, 0.10])  # Expected annual returns
cov_matrix = np.array([
    [0.10, 0.02, 0.04, 0.03],
    [0.02, 0.12, 0.01, 0.05],
    [0.04, 0.01, 0.08, 0.02],
    [0.03, 0.05, 0.02, 0.09]
])  # Covariance matrix

# Genetic Algorithm parameters
pop_size = 20  # Population size
num_assets = len(expected_returns)
num_generations = 100
mutation_rate = 0.1

def fitness(weights):
    weights = weights / np.sum(weights)  # Normalize weights to sum to 1
    portfolio_return = np.dot(weights, expected_returns)
    portfolio_risk = np.sqrt(np.dot(weights.T, np.dot(cov_matrix, weights)))
    return portfolio_return / portfolio_risk  # Sharpe ratio (risk-adjusted return)

def initialize_population():
    return np.random.dirichlet(np.ones(num_assets), size=pop_size)

def selection(population):
    scores = np.array([fitness(ind) for ind in population])
    selected_idx = scores.argsort()[-pop_size // 2:]  # Select top 50%
    return population[selected_idx]

def crossover(parent1, parent2):
    alpha = np.random.rand()
    child = alpha * parent1 + (1 - alpha) * parent2
    return child / np.sum(child)  # Normalize weights

def mutate(weights):
    if np.random.rand() < mutation_rate:
        mutation = np.random.normal(0, 0.05, size=num_assets)
        weights += mutation
        weights = np.maximum(weights, 0)  # Ensure non-negative weights
        weights /= np.sum(weights)  # Normalize
    return weights

# Genetic Algorithm execution
population = initialize_population()

for generation in range(num_generations):
    population = selection(population)
    new_population = []
    while len(new_population) < pop_size:
        parents = np.random.choice(len(population), 2, replace=False)
        child = crossover(population[parents[0]], population[parents[1]])
        child = mutate(child)
        new_population.append(child)
    population = np.array(new_population)

# Best portfolio from final generation
best_portfolio = population[np.argmax([fitness(ind) for ind in population])]
print("Optimized Portfolio Weights:", best_portfolio)
